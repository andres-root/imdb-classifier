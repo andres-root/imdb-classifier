{
 "cells": [
  {
   "cell_type": "code",
   "execution_count": 2,
   "metadata": {},
   "outputs": [
    {
     "name": "stderr",
     "output_type": "stream",
     "text": [
      "Using TensorFlow backend.\n"
     ]
    }
   ],
   "source": [
    "from keras.datasets import imdb\n",
    "from keras.models import Sequential\n",
    "from keras.layers import Dense\n",
    "from keras.preprocessing.text import one_hot, text_to_word_sequence\n",
    "import numpy as np\n",
    "import matplotlib.pyplot as plt"
   ]
  },
  {
   "cell_type": "code",
   "execution_count": 3,
   "metadata": {},
   "outputs": [],
   "source": [
    "(train_data, train_labels), (test_data, test_labels) = imdb.load_data(num_words=10000)"
   ]
  },
  {
   "cell_type": "code",
   "execution_count": 4,
   "metadata": {},
   "outputs": [
    {
     "data": {
      "text/plain": [
       "[1,\n",
       " 14,\n",
       " 22,\n",
       " 16,\n",
       " 43,\n",
       " 530,\n",
       " 973,\n",
       " 1622,\n",
       " 1385,\n",
       " 65,\n",
       " 458,\n",
       " 4468,\n",
       " 66,\n",
       " 3941,\n",
       " 4,\n",
       " 173,\n",
       " 36,\n",
       " 256,\n",
       " 5,\n",
       " 25,\n",
       " 100,\n",
       " 43,\n",
       " 838,\n",
       " 112,\n",
       " 50,\n",
       " 670,\n",
       " 2,\n",
       " 9,\n",
       " 35,\n",
       " 480,\n",
       " 284,\n",
       " 5,\n",
       " 150,\n",
       " 4,\n",
       " 172,\n",
       " 112,\n",
       " 167,\n",
       " 2,\n",
       " 336,\n",
       " 385,\n",
       " 39,\n",
       " 4,\n",
       " 172,\n",
       " 4536,\n",
       " 1111,\n",
       " 17,\n",
       " 546,\n",
       " 38,\n",
       " 13,\n",
       " 447,\n",
       " 4,\n",
       " 192,\n",
       " 50,\n",
       " 16,\n",
       " 6,\n",
       " 147,\n",
       " 2025,\n",
       " 19,\n",
       " 14,\n",
       " 22,\n",
       " 4,\n",
       " 1920,\n",
       " 4613,\n",
       " 469,\n",
       " 4,\n",
       " 22,\n",
       " 71,\n",
       " 87,\n",
       " 12,\n",
       " 16,\n",
       " 43,\n",
       " 530,\n",
       " 38,\n",
       " 76,\n",
       " 15,\n",
       " 13,\n",
       " 1247,\n",
       " 4,\n",
       " 22,\n",
       " 17,\n",
       " 515,\n",
       " 17,\n",
       " 12,\n",
       " 16,\n",
       " 626,\n",
       " 18,\n",
       " 2,\n",
       " 5,\n",
       " 62,\n",
       " 386,\n",
       " 12,\n",
       " 8,\n",
       " 316,\n",
       " 8,\n",
       " 106,\n",
       " 5,\n",
       " 4,\n",
       " 2223,\n",
       " 5244,\n",
       " 16,\n",
       " 480,\n",
       " 66,\n",
       " 3785,\n",
       " 33,\n",
       " 4,\n",
       " 130,\n",
       " 12,\n",
       " 16,\n",
       " 38,\n",
       " 619,\n",
       " 5,\n",
       " 25,\n",
       " 124,\n",
       " 51,\n",
       " 36,\n",
       " 135,\n",
       " 48,\n",
       " 25,\n",
       " 1415,\n",
       " 33,\n",
       " 6,\n",
       " 22,\n",
       " 12,\n",
       " 215,\n",
       " 28,\n",
       " 77,\n",
       " 52,\n",
       " 5,\n",
       " 14,\n",
       " 407,\n",
       " 16,\n",
       " 82,\n",
       " 2,\n",
       " 8,\n",
       " 4,\n",
       " 107,\n",
       " 117,\n",
       " 5952,\n",
       " 15,\n",
       " 256,\n",
       " 4,\n",
       " 2,\n",
       " 7,\n",
       " 3766,\n",
       " 5,\n",
       " 723,\n",
       " 36,\n",
       " 71,\n",
       " 43,\n",
       " 530,\n",
       " 476,\n",
       " 26,\n",
       " 400,\n",
       " 317,\n",
       " 46,\n",
       " 7,\n",
       " 4,\n",
       " 2,\n",
       " 1029,\n",
       " 13,\n",
       " 104,\n",
       " 88,\n",
       " 4,\n",
       " 381,\n",
       " 15,\n",
       " 297,\n",
       " 98,\n",
       " 32,\n",
       " 2071,\n",
       " 56,\n",
       " 26,\n",
       " 141,\n",
       " 6,\n",
       " 194,\n",
       " 7486,\n",
       " 18,\n",
       " 4,\n",
       " 226,\n",
       " 22,\n",
       " 21,\n",
       " 134,\n",
       " 476,\n",
       " 26,\n",
       " 480,\n",
       " 5,\n",
       " 144,\n",
       " 30,\n",
       " 5535,\n",
       " 18,\n",
       " 51,\n",
       " 36,\n",
       " 28,\n",
       " 224,\n",
       " 92,\n",
       " 25,\n",
       " 104,\n",
       " 4,\n",
       " 226,\n",
       " 65,\n",
       " 16,\n",
       " 38,\n",
       " 1334,\n",
       " 88,\n",
       " 12,\n",
       " 16,\n",
       " 283,\n",
       " 5,\n",
       " 16,\n",
       " 4472,\n",
       " 113,\n",
       " 103,\n",
       " 32,\n",
       " 15,\n",
       " 16,\n",
       " 5345,\n",
       " 19,\n",
       " 178,\n",
       " 32]"
      ]
     },
     "execution_count": 4,
     "metadata": {},
     "output_type": "execute_result"
    }
   ],
   "source": [
    "train_data[0]"
   ]
  },
  {
   "cell_type": "code",
   "execution_count": 5,
   "metadata": {},
   "outputs": [
    {
     "data": {
      "text/plain": [
       "1"
      ]
     },
     "execution_count": 5,
     "metadata": {},
     "output_type": "execute_result"
    }
   ],
   "source": [
    "train_labels[0]"
   ]
  },
  {
   "cell_type": "markdown",
   "metadata": {},
   "source": [
    "### Decoding reviews to English"
   ]
  },
  {
   "cell_type": "code",
   "execution_count": 6,
   "metadata": {},
   "outputs": [],
   "source": [
    "word_index = imdb.get_word_index()\n",
    "\n",
    "# Reverses it, mapping integer indices to words\n",
    "reverse_word_index = dict(\n",
    "    [(value, key) for (key, value) in word_index.items()])\n",
    "\n",
    "# Decodes the review\n",
    "decoded_review = ' '.join(\n",
    "    [reverse_word_index.get(i - 3, '?') for i in train_data[0]])"
   ]
  },
  {
   "cell_type": "code",
   "execution_count": 7,
   "metadata": {},
   "outputs": [
    {
     "data": {
      "text/plain": [
       "\"? this film was just brilliant casting location scenery story direction everyone's really suited the part they played and you could just imagine being there robert ? is an amazing actor and now the same being director ? father came from the same scottish island as myself so i loved the fact there was a real connection with this film the witty remarks throughout the film were great it was just brilliant so much that i bought the film as soon as it was released for ? and would recommend it to everyone to watch and the fly fishing was amazing really cried at the end it was so sad and you know what they say if you cry at a film it must have been good and this definitely was also ? to the two little boy's that played the ? of norman and paul they were just brilliant children are often left out of the ? list i think because the stars that play them all grown up are such a big profile for the whole film but these children are amazing and should be praised for what they have done don't you think the whole story was so lovely because it was true and was someone's life after all that was shared with us all\""
      ]
     },
     "execution_count": 7,
     "metadata": {},
     "output_type": "execute_result"
    }
   ],
   "source": [
    "decoded_review"
   ]
  },
  {
   "cell_type": "markdown",
   "metadata": {},
   "source": [
    "### Encoding the integer sentences into a binary matrix"
   ]
  },
  {
   "cell_type": "code",
   "execution_count": 8,
   "metadata": {},
   "outputs": [],
   "source": [
    "def vectorize_sequences(sequences, dimension=10000):\n",
    "    results = np.zeros((len(sequences), dimension))  # Creates a matrix of zeroes\n",
    "    \n",
    "    # Sets specific indices of results[i] to 1s\n",
    "    for i, sequence in enumerate(sequences):\n",
    "        results[i, sequence] = 1.\n",
    "    return results"
   ]
  },
  {
   "cell_type": "code",
   "execution_count": 9,
   "metadata": {},
   "outputs": [],
   "source": [
    "x_train = vectorize_sequences(train_data)  # Vectorized training data\n",
    "x_test = vectorize_sequences(test_data)  # Vectorized test data\n",
    "\n",
    "y_train = np.asarray(train_labels).astype('float32')  # Vectorized training labels\n",
    "y_test = np.asarray(test_labels).astype('float32')  # Vectorized test labels"
   ]
  },
  {
   "cell_type": "code",
   "execution_count": 10,
   "metadata": {},
   "outputs": [
    {
     "name": "stdout",
     "output_type": "stream",
     "text": [
      "[[0. 1. 1. ... 0. 0. 0.]\n",
      " [0. 1. 1. ... 0. 0. 0.]\n",
      " [0. 1. 1. ... 0. 0. 0.]\n",
      " ...\n",
      " [0. 1. 1. ... 0. 0. 0.]\n",
      " [0. 1. 1. ... 0. 0. 0.]\n",
      " [0. 1. 1. ... 0. 0. 0.]]\n"
     ]
    }
   ],
   "source": [
    "print(x_train)"
   ]
  },
  {
   "cell_type": "markdown",
   "metadata": {},
   "source": [
    "### The model definition"
   ]
  },
  {
   "cell_type": "code",
   "execution_count": 11,
   "metadata": {},
   "outputs": [],
   "source": [
    "model = Sequential()\n",
    "model.add(Dense(16, activation='relu', input_shape=(10000,)))\n",
    "model.add(Dense(16, activation='relu'))\n",
    "model.add(Dense(1, activation='sigmoid'))\n",
    "\n",
    "model.compile(optimizer='rmsprop',\n",
    "             loss='binary_crossentropy',\n",
    "             metrics=['accuracy'])"
   ]
  },
  {
   "cell_type": "markdown",
   "metadata": {},
   "source": [
    "### Validate model"
   ]
  },
  {
   "cell_type": "code",
   "execution_count": 12,
   "metadata": {},
   "outputs": [],
   "source": [
    "x_val = x_train[:10000]\n",
    "partial_x_train = x_train[10000:]\n",
    "\n",
    "y_val = y_train[:10000]\n",
    "partial_y_train = y_train[10000:]"
   ]
  },
  {
   "cell_type": "markdown",
   "metadata": {},
   "source": [
    "### Train the model"
   ]
  },
  {
   "cell_type": "code",
   "execution_count": 13,
   "metadata": {},
   "outputs": [
    {
     "name": "stdout",
     "output_type": "stream",
     "text": [
      "Train on 15000 samples, validate on 10000 samples\n",
      "Epoch 1/20\n",
      "15000/15000 [==============================] - 4s 280us/step - loss: 0.5101 - acc: 0.7802 - val_loss: 0.3835 - val_acc: 0.8665\n",
      "Epoch 2/20\n",
      "15000/15000 [==============================] - 2s 120us/step - loss: 0.3017 - acc: 0.9040 - val_loss: 0.3002 - val_acc: 0.8901\n",
      "Epoch 3/20\n",
      "15000/15000 [==============================] - 2s 117us/step - loss: 0.2168 - acc: 0.9283 - val_loss: 0.3082 - val_acc: 0.8718\n",
      "Epoch 4/20\n",
      "15000/15000 [==============================] - 2s 114us/step - loss: 0.1727 - acc: 0.9439 - val_loss: 0.2817 - val_acc: 0.8862\n",
      "Epoch 5/20\n",
      "15000/15000 [==============================] - 2s 117us/step - loss: 0.1388 - acc: 0.9552 - val_loss: 0.2848 - val_acc: 0.8871\n",
      "Epoch 6/20\n",
      "15000/15000 [==============================] - 2s 144us/step - loss: 0.1110 - acc: 0.9665 - val_loss: 0.3214 - val_acc: 0.8773\n",
      "Epoch 7/20\n",
      "15000/15000 [==============================] - 2s 119us/step - loss: 0.0933 - acc: 0.9723 - val_loss: 0.3156 - val_acc: 0.8839\n",
      "Epoch 8/20\n",
      "15000/15000 [==============================] - 2s 122us/step - loss: 0.0755 - acc: 0.9777 - val_loss: 0.3889 - val_acc: 0.8650\n",
      "Epoch 9/20\n",
      "15000/15000 [==============================] - 2s 119us/step - loss: 0.0609 - acc: 0.9836 - val_loss: 0.3725 - val_acc: 0.8758\n",
      "Epoch 10/20\n",
      "15000/15000 [==============================] - 2s 137us/step - loss: 0.0500 - acc: 0.9867 - val_loss: 0.3902 - val_acc: 0.8790\n",
      "Epoch 11/20\n",
      "15000/15000 [==============================] - 2s 128us/step - loss: 0.0402 - acc: 0.9903 - val_loss: 0.4279 - val_acc: 0.8761\n",
      "Epoch 12/20\n",
      "15000/15000 [==============================] - 2s 140us/step - loss: 0.0330 - acc: 0.9929 - val_loss: 0.4754 - val_acc: 0.8665\n",
      "Epoch 13/20\n",
      "15000/15000 [==============================] - 2s 120us/step - loss: 0.0223 - acc: 0.9967 - val_loss: 0.4881 - val_acc: 0.8707\n",
      "Epoch 14/20\n",
      "15000/15000 [==============================] - 2s 121us/step - loss: 0.0209 - acc: 0.9957 - val_loss: 0.5200 - val_acc: 0.8726\n",
      "Epoch 15/20\n",
      "15000/15000 [==============================] - 2s 124us/step - loss: 0.0184 - acc: 0.9967 - val_loss: 0.5391 - val_acc: 0.8714\n",
      "Epoch 16/20\n",
      "15000/15000 [==============================] - 2s 122us/step - loss: 0.0091 - acc: 0.9997 - val_loss: 0.5744 - val_acc: 0.8682\n",
      "Epoch 17/20\n",
      "15000/15000 [==============================] - 2s 117us/step - loss: 0.0088 - acc: 0.9993 - val_loss: 0.6123 - val_acc: 0.8679\n",
      "Epoch 18/20\n",
      "15000/15000 [==============================] - 2s 122us/step - loss: 0.0112 - acc: 0.9971 - val_loss: 0.6488 - val_acc: 0.8682\n",
      "Epoch 19/20\n",
      "15000/15000 [==============================] - 2s 116us/step - loss: 0.0036 - acc: 0.9998 - val_loss: 0.7136 - val_acc: 0.8583\n",
      "Epoch 20/20\n",
      "15000/15000 [==============================] - 2s 116us/step - loss: 0.0081 - acc: 0.9980 - val_loss: 0.7074 - val_acc: 0.8662\n"
     ]
    }
   ],
   "source": [
    "history = model.fit(partial_x_train,\n",
    "                    partial_y_train,\n",
    "                    epochs=20,\n",
    "                    batch_size=512,\n",
    "                    validation_data=(x_val, y_val))"
   ]
  },
  {
   "cell_type": "code",
   "execution_count": 14,
   "metadata": {},
   "outputs": [
    {
     "data": {
      "text/plain": [
       "dict_keys(['acc', 'val_loss', 'val_acc', 'loss'])"
      ]
     },
     "execution_count": 14,
     "metadata": {},
     "output_type": "execute_result"
    }
   ],
   "source": [
    "history_dict = history.history\n",
    "history_dict.keys()"
   ]
  },
  {
   "cell_type": "markdown",
   "metadata": {},
   "source": [
    "### Ploting the training and validation loss"
   ]
  },
  {
   "cell_type": "code",
   "execution_count": 15,
   "metadata": {},
   "outputs": [
    {
     "data": {
      "image/png": "[encoded data removed]",
      "text/plain": [
       "<Figure size 432x288 with 1 Axes>"
      ]
     },
     "metadata": {
      "needs_background": "light"
     },
     "output_type": "display_data"
    }
   ],
   "source": [
    "history_dict = history.history\n",
    "loss_values = history_dict['loss']\n",
    "val_loss_values = history_dict['val_loss']\n",
    "\n",
    "epochs = range(1, len(loss_values) + 1)\n",
    "\n",
    "plt.plot(epochs, loss_values, 'bo', label='Training loss')\n",
    "plt.plot(epochs, val_loss_values, 'b', label='Validation loss')\n",
    "plt.title('Training and validation loss')\n",
    "plt.xlabel('Epochs')\n",
    "plt.ylabel('Loss')\n",
    "plt.legend()\n",
    "\n",
    "plt.show()"
   ]
  },
  {
   "cell_type": "markdown",
   "metadata": {},
   "source": [
    "### Plotting the training and validation accuracy"
   ]
  },
  {
   "cell_type": "code",
   "execution_count": 16,
   "metadata": {},
   "outputs": [
    {
     "data": {
      "image/png": "[encoded data removed]",
      "text/plain": [
       "<Figure size 432x288 with 1 Axes>"
      ]
     },
     "metadata": {
      "needs_background": "light"
     },
     "output_type": "display_data"
    }
   ],
   "source": [
    "plt.clf()  # Clear figure\n",
    "acc_values = history_dict['acc']\n",
    "val_acc_values = history_dict['val_acc']\n",
    "\n",
    "plt.plot(epochs, acc_values, 'bo', label='Training acc')\n",
    "plt.plot(epochs, val_acc_values, 'b', label='Validation acc')\n",
    "plt.title('Training and validation accuracy')\n",
    "plt.xlabel('Epochs')\n",
    "plt.ylabel('Loss')\n",
    "plt.legend()\n",
    "\n",
    "plt.show()"
   ]
  },
  {
   "cell_type": "markdown",
   "metadata": {},
   "source": [
    "### Retraining a model from scratch"
   ]
  },
  {
   "cell_type": "code",
   "execution_count": null,
   "metadata": {},
   "outputs": [
    {
     "name": "stdout",
     "output_type": "stream",
     "text": [
      "Train on 15000 samples, validate on 10000 samples\n",
      "Epoch 1/20\n",
      "15000/15000 [==============================] - 2s 136us/step - loss: 0.5342 - acc: 0.7899 - val_loss: 0.4087 - val_acc: 0.8694\n",
      "Epoch 2/20\n",
      "15000/15000 [==============================] - 2s 119us/step - loss: 0.3274 - acc: 0.8991 - val_loss: 0.3164 - val_acc: 0.8848\n",
      "Epoch 3/20\n",
      "15000/15000 [==============================] - 2s 118us/step - loss: 0.2370 - acc: 0.9238 - val_loss: 0.2835 - val_acc: 0.8896\n",
      "Epoch 4/20\n",
      "15000/15000 [==============================] - 2s 116us/step - loss: 0.1876 - acc: 0.9388 - val_loss: 0.2865 - val_acc: 0.8841\n",
      "Epoch 5/20\n",
      "15000/15000 [==============================] - 2s 123us/step - loss: 0.1511 - acc: 0.9520 - val_loss: 0.2767 - val_acc: 0.8890\n",
      "Epoch 6/20\n",
      "15000/15000 [==============================] - 2s 121us/step - loss: 0.1264 - acc: 0.9615 - val_loss: 0.3124 - val_acc: 0.8800\n",
      "Epoch 7/20\n",
      "15000/15000 [==============================] - 2s 119us/step - loss: 0.1051 - acc: 0.9682 - val_loss: 0.3125 - val_acc: 0.8843\n",
      "Epoch 8/20\n",
      "15000/15000 [==============================] - 2s 120us/step - loss: 0.0885 - acc: 0.9733 - val_loss: 0.3204 - val_acc: 0.8820\n",
      "Epoch 9/20\n",
      "15000/15000 [==============================] - 2s 122us/step - loss: 0.0741 - acc: 0.9791 - val_loss: 0.3512 - val_acc: 0.8826\n",
      "Epoch 10/20\n",
      "15000/15000 [==============================] - 2s 164us/step - loss: 0.0600 - acc: 0.9848 - val_loss: 0.3972 - val_acc: 0.8748\n",
      "Epoch 11/20\n",
      "15000/15000 [==============================] - 2s 133us/step - loss: 0.0513 - acc: 0.9863 - val_loss: 0.3891 - val_acc: 0.8782\n",
      "Epoch 12/20\n",
      "15000/15000 [==============================] - 2s 115us/step - loss: 0.0401 - acc: 0.9910 - val_loss: 0.4175 - val_acc: 0.8743\n",
      "Epoch 13/20\n",
      "15000/15000 [==============================] - 2s 121us/step - loss: 0.0340 - acc: 0.9933 - val_loss: 0.4469 - val_acc: 0.8718\n",
      "Epoch 14/20\n",
      "15000/15000 [==============================] - 2s 121us/step - loss: 0.0283 - acc: 0.9941 - val_loss: 0.4729 - val_acc: 0.8739\n",
      "Epoch 15/20\n",
      "15000/15000 [==============================] - 2s 116us/step - loss: 0.0242 - acc: 0.9944 - val_loss: 0.5042 - val_acc: 0.8712\n",
      "Epoch 16/20\n",
      "15000/15000 [==============================] - 2s 118us/step - loss: 0.0164 - acc: 0.9978 - val_loss: 0.6185 - val_acc: 0.8512\n",
      "Epoch 17/20\n",
      "15000/15000 [==============================] - 2s 123us/step - loss: 0.0129 - acc: 0.9989 - val_loss: 0.5610 - val_acc: 0.8689\n",
      "Epoch 18/20\n",
      "15000/15000 [==============================] - 2s 130us/step - loss: 0.0106 - acc: 0.9993 - val_loss: 0.6406 - val_acc: 0.8678\n",
      "Epoch 19/20\n",
      "14336/15000 [===========================>..] - ETA: 0s - loss: 0.0084 - acc: 0.9995"
     ]
    }
   ],
   "source": [
    "model = Sequential()\n",
    "model.add(Dense(16, activation='relu', input_shape=(10000,)))\n",
    "model.add(Dense(16, activation='relu'))\n",
    "model.add(Dense(1, activation='sigmoid'))\n",
    "\n",
    "model.compile(optimizer='rmsprop',\n",
    "             loss='binary_crossentropy',\n",
    "             metrics=['accuracy'])\n",
    "\n",
    "model.fit(partial_x_train,\n",
    "                    partial_y_train,\n",
    "                    epochs=20,\n",
    "                    batch_size=512,\n",
    "                    validation_data=(x_val, y_val))\n",
    "\n",
    "results = model.evaluate(x_test, y_test)"
   ]
  },
  {
   "cell_type": "code",
   "execution_count": null,
   "metadata": {},
   "outputs": [],
   "source": [
    "print(results)"
   ]
  },
  {
   "cell_type": "code",
   "execution_count": null,
   "metadata": {},
   "outputs": [],
   "source": [
    "x_test"
   ]
  },
  {
   "cell_type": "markdown",
   "metadata": {},
   "source": [
    "### Generating predictions on new data"
   ]
  },
  {
   "cell_type": "code",
   "execution_count": null,
   "metadata": {},
   "outputs": [],
   "source": [
    "prediction = model.predict(x_test)\n",
    "print(len(prediction[0]))\n",
    "print(prediction)"
   ]
  },
  {
   "cell_type": "markdown",
   "metadata": {},
   "source": [
    "## Using the model with real data"
   ]
  },
  {
   "cell_type": "markdown",
   "metadata": {},
   "source": [
    "### Preprocessing the text with one_hot_encoding technique"
   ]
  },
  {
   "cell_type": "code",
   "execution_count": null,
   "metadata": {},
   "outputs": [],
   "source": [
    "text = 'I sincerely tried to get into this movie. I was honestly bored throughout the film. I loved the camera work and get what this was going for. I just could not get invested as much as I wanted to. Not a bad movie. Just not keeping me tuned in. Although I do say again Cinematography was very nice throughout the film.'\n",
    "sequences = []\n",
    "vocabulary = set(text_to_word_sequence(text))\n",
    "vocabulary_size = len(vocabulary)\n",
    "print(vocabulary_size)\n",
    "encoded_text = one_hot(text, vocabulary_size)\n",
    "sequences.append(encoded_text)\n",
    "print(sequences)\n",
    "\n"
   ]
  },
  {
   "cell_type": "markdown",
   "metadata": {},
   "source": [
    "### Vectorize sequences"
   ]
  },
  {
   "cell_type": "code",
   "execution_count": null,
   "metadata": {},
   "outputs": [],
   "source": [
    "x_test = vectorize_sequences(sequences)\n",
    "print(x_test)"
   ]
  },
  {
   "cell_type": "code",
   "execution_count": null,
   "metadata": {},
   "outputs": [],
   "source": [
    "pred = model.predict(x_test)\n",
    "print(pred[0])"
   ]
  },
  {
   "cell_type": "code",
   "execution_count": null,
   "metadata": {},
   "outputs": [],
   "source": [
    "text = \"This movie was the best written, acted, visual effected, etc. movie. This movie was the best movie I have ever seen. I am a huge Christopher Nolan fan and this movie was his finest. Matthew McConaughey turned in his best performance of his lifetime. Anne Hathaway was an amazing supporting actress and compared to her performance in Les Miserables, I have no idea how she didn't get an Oscar for this. The visual effects were more than just Oscar worthy. They were pioneering. I have never seen anything like it. One thing I would recommend is having a little previous knowledge about space. Not like Einstein stuff though. I would recommend you see this movie as fast as you can if you are a Nolan fan or not. I give this movie a rating of 97 out of 100.\"\n",
    "text = \"\"\"\"\"\"\n",
    "sequences = []\n",
    "vocabulary = set(text_to_word_sequence(text))\n",
    "vocabulary_size = len(vocabulary)\n",
    "print(vocabulary_size)\n",
    "encoded_text = one_hot(text, vocabulary_size)\n",
    "sequences.append(encoded_text)\n",
    "print(sequences)\n",
    "x_test = vectorize_sequences(sequences)\n",
    "print(x_test)"
   ]
  },
  {
   "cell_type": "code",
   "execution_count": null,
   "metadata": {},
   "outputs": [],
   "source": [
    "pred = model.predict(x_test)\n",
    "print(pred[0])"
   ]
  },
  {
   "cell_type": "code",
   "execution_count": null,
   "metadata": {},
   "outputs": [],
   "source": []
  }
 ],
 "metadata": {
  "kernelspec": {
   "display_name": "Python 3",
   "language": "python",
   "name": "python3"
  },
  "language_info": {
   "codemirror_mode": {
    "name": "ipython",
    "version": 3
   },
   "file_extension": ".py",
   "mimetype": "text/x-python",
   "name": "python",
   "nbconvert_exporter": "python",
   "pygments_lexer": "ipython3",
   "version": "3.5.6"
  }
 },
 "nbformat": 4,
 "nbformat_minor": 2
}
